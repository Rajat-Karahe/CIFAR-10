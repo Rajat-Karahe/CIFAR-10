{
  "nbformat": 4,
  "nbformat_minor": 0,
  "metadata": {
    "colab": {
      "name": "CIFAR_10_Using_CNN.ipynb",
      "provenance": [],
      "mount_file_id": "1rZWivdsrmDXGYY4YMWfDAIat0jwa9xnP",
      "authorship_tag": "ABX9TyOvbcXylt1bRoI7EOtk4if/"
    },
    "kernelspec": {
      "name": "python3",
      "display_name": "Python 3"
    },
    "accelerator": "GPU"
  },
  "cells": [
    {
      "cell_type": "code",
      "metadata": {
        "id": "rZPTUa50nrhp",
        "colab_type": "code",
        "colab": {}
      },
      "source": [
        "import numpy as np\n",
        "import pandas as pd\n",
        "import matplotlib.pyplot as plt\n",
        "\n",
        "import torch\n",
        "import torchvision\n",
        "import torch.nn as nn\n",
        "import torch.nn.functional as F\n",
        "import torchvision.transforms as transforms"
      ],
      "execution_count": 0,
      "outputs": []
    },
    {
      "cell_type": "code",
      "metadata": {
        "id": "fL0nGHoyqxoC",
        "colab_type": "code",
        "colab": {}
      },
      "source": [
        "import pickle"
      ],
      "execution_count": 0,
      "outputs": []
    },
    {
      "cell_type": "code",
      "metadata": {
        "id": "AroqhTfipjBU",
        "colab_type": "code",
        "outputId": "1c9b4de9-8623-4895-8c9b-d98c4cfcb2ab",
        "colab": {
          "base_uri": "https://localhost:8080/",
          "height": 34
        }
      },
      "source": [
        "cd /content/drive/My Drive/Deep_Learning_Projects/ImageNet/Datasets/"
      ],
      "execution_count": 111,
      "outputs": [
        {
          "output_type": "stream",
          "text": [
            "/content/drive/My Drive/Deep_Learning_Projects/ImageNet/Datasets\n"
          ],
          "name": "stdout"
        }
      ]
    },
    {
      "cell_type": "code",
      "metadata": {
        "id": "kbexXV6SoYs6",
        "colab_type": "code",
        "colab": {}
      },
      "source": [
        "# !tar xf cifar-10-python.tar.gz -C new"
      ],
      "execution_count": 0,
      "outputs": []
    },
    {
      "cell_type": "code",
      "metadata": {
        "id": "hlQuCqAGpUSb",
        "colab_type": "code",
        "colab": {}
      },
      "source": [
        "with open('new/cifar-10-batches-py/data_batch_1', 'rb') as input_file:\n",
        "  x = pickle.load(input_file, encoding='latin1')"
      ],
      "execution_count": 0,
      "outputs": []
    },
    {
      "cell_type": "code",
      "metadata": {
        "id": "5QqVARV2qwLd",
        "colab_type": "code",
        "colab": {}
      },
      "source": [
        "x = x['data']"
      ],
      "execution_count": 0,
      "outputs": []
    },
    {
      "cell_type": "code",
      "metadata": {
        "id": "TNnAZIFLq13Y",
        "colab_type": "code",
        "outputId": "5ceadca3-bb55-4a0f-cc1f-10aeb76c2db9",
        "colab": {
          "base_uri": "https://localhost:8080/",
          "height": 34
        }
      },
      "source": [
        "x.shape"
      ],
      "execution_count": 115,
      "outputs": [
        {
          "output_type": "execute_result",
          "data": {
            "text/plain": [
              "(10000, 3072)"
            ]
          },
          "metadata": {
            "tags": []
          },
          "execution_count": 115
        }
      ]
    },
    {
      "cell_type": "code",
      "metadata": {
        "id": "_Id7qiQarDSe",
        "colab_type": "code",
        "colab": {}
      },
      "source": [
        "x = x.reshape(-1, 3, 32, 32)"
      ],
      "execution_count": 0,
      "outputs": []
    },
    {
      "cell_type": "code",
      "metadata": {
        "id": "Iq5b1qyPrIfc",
        "colab_type": "code",
        "outputId": "22e10925-7eb6-4a48-bf72-d5d6e6727043",
        "colab": {
          "base_uri": "https://localhost:8080/",
          "height": 34
        }
      },
      "source": [
        "x.shape"
      ],
      "execution_count": 117,
      "outputs": [
        {
          "output_type": "execute_result",
          "data": {
            "text/plain": [
              "(10000, 3, 32, 32)"
            ]
          },
          "metadata": {
            "tags": []
          },
          "execution_count": 117
        }
      ]
    },
    {
      "cell_type": "code",
      "metadata": {
        "id": "Pp-ph1O6rR8p",
        "colab_type": "code",
        "colab": {}
      },
      "source": [
        "img = x[1, :, :, :]"
      ],
      "execution_count": 0,
      "outputs": []
    },
    {
      "cell_type": "code",
      "metadata": {
        "id": "yTo_wXVZrTaL",
        "colab_type": "code",
        "outputId": "e67f666a-e38e-4b7b-b16d-ec4ef92257f4",
        "colab": {
          "base_uri": "https://localhost:8080/",
          "height": 34
        }
      },
      "source": [
        "img.shape"
      ],
      "execution_count": 119,
      "outputs": [
        {
          "output_type": "execute_result",
          "data": {
            "text/plain": [
              "(3, 32, 32)"
            ]
          },
          "metadata": {
            "tags": []
          },
          "execution_count": 119
        }
      ]
    },
    {
      "cell_type": "code",
      "metadata": {
        "id": "3pnjU7lUr4a3",
        "colab_type": "code",
        "colab": {}
      },
      "source": [
        "img = img.transpose(1, 2, 0)"
      ],
      "execution_count": 0,
      "outputs": []
    },
    {
      "cell_type": "code",
      "metadata": {
        "id": "nZDWsNEKr8iz",
        "colab_type": "code",
        "outputId": "ce270789-4206-4554-c68e-62da64d64416",
        "colab": {
          "base_uri": "https://localhost:8080/",
          "height": 283
        }
      },
      "source": [
        "plt.imshow(img)"
      ],
      "execution_count": 121,
      "outputs": [
        {
          "output_type": "execute_result",
          "data": {
            "text/plain": [
              "<matplotlib.image.AxesImage at 0x7f65006b2438>"
            ]
          },
          "metadata": {
            "tags": []
          },
          "execution_count": 121
        },
        {
          "output_type": "display_data",
          "data": {
            "image/png": "[encoded data removed]",
            "text/plain": [
              "<Figure size 432x288 with 1 Axes>"
            ]
          },
          "metadata": {
            "tags": [],
            "needs_background": "light"
          }
        }
      ]
    },
    {
      "cell_type": "code",
      "metadata": {
        "id": "eB69bTQEr-u8",
        "colab_type": "code",
        "colab": {
          "base_uri": "https://localhost:8080/",
          "height": 655
        },
        "outputId": "79107837-fd6c-4980-a830-e3231edddf26"
      },
      "source": [
        "dir(transforms)"
      ],
      "execution_count": 122,
      "outputs": [
        {
          "output_type": "execute_result",
          "data": {
            "text/plain": [
              "['CenterCrop',\n",
              " 'ColorJitter',\n",
              " 'Compose',\n",
              " 'FiveCrop',\n",
              " 'Grayscale',\n",
              " 'Lambda',\n",
              " 'LinearTransformation',\n",
              " 'Normalize',\n",
              " 'Pad',\n",
              " 'RandomAffine',\n",
              " 'RandomApply',\n",
              " 'RandomChoice',\n",
              " 'RandomCrop',\n",
              " 'RandomErasing',\n",
              " 'RandomGrayscale',\n",
              " 'RandomHorizontalFlip',\n",
              " 'RandomOrder',\n",
              " 'RandomPerspective',\n",
              " 'RandomResizedCrop',\n",
              " 'RandomRotation',\n",
              " 'RandomSizedCrop',\n",
              " 'RandomVerticalFlip',\n",
              " 'Resize',\n",
              " 'Scale',\n",
              " 'TenCrop',\n",
              " 'ToPILImage',\n",
              " 'ToTensor',\n",
              " '__builtins__',\n",
              " '__cached__',\n",
              " '__doc__',\n",
              " '__file__',\n",
              " '__loader__',\n",
              " '__name__',\n",
              " '__package__',\n",
              " '__path__',\n",
              " '__spec__',\n",
              " 'functional',\n",
              " 'transforms']"
            ]
          },
          "metadata": {
            "tags": []
          },
          "execution_count": 122
        }
      ]
    },
    {
      "cell_type": "code",
      "metadata": {
        "id": "dQaiY0nTZ_uI",
        "colab_type": "code",
        "colab": {}
      },
      "source": [
        "mean = [0.4915, 0.4823, 0.4467]\n",
        "std = [0.2383, 0.23486, 0.25264]"
      ],
      "execution_count": 0,
      "outputs": []
    },
    {
      "cell_type": "code",
      "metadata": {
        "id": "RdAQ39q8dMEj",
        "colab_type": "code",
        "colab": {}
      },
      "source": [
        "train_transform = transforms.Compose([\n",
        "  transforms.Resize(32),\n",
        "  transforms.RandomHorizontalFlip(),\n",
        "  transforms.ToTensor(),\n",
        "  transforms.Normalize(mean, std)                                    \n",
        "]) "
      ],
      "execution_count": 0,
      "outputs": []
    },
    {
      "cell_type": "code",
      "metadata": {
        "id": "pYdAklU5dzDc",
        "colab_type": "code",
        "colab": {}
      },
      "source": [
        "test_transform = transforms.Compose([\n",
        "  transforms.Resize(32),\n",
        "  transforms.ToTensor(),\n",
        "  transforms.Normalize(mean, std)                                     \n",
        "])"
      ],
      "execution_count": 0,
      "outputs": []
    },
    {
      "cell_type": "code",
      "metadata": {
        "id": "SILV1-pueTDT",
        "colab_type": "code",
        "colab": {
          "base_uri": "https://localhost:8080/",
          "height": 34
        },
        "outputId": "0d18da12-301a-4d48-ff64-a248e8108e56"
      },
      "source": [
        "trainset = torchvision.datasets.CIFAR10(root = '/content/drive/My Drive/Colab Notebooks/Udacity_DL/Dataset/CIFAR-10', \n",
        "                                        train=True, \n",
        "                                        download=True, \n",
        "                                        transform= train_transform)"
      ],
      "execution_count": 126,
      "outputs": [
        {
          "output_type": "stream",
          "text": [
            "Files already downloaded and verified\n"
          ],
          "name": "stdout"
        }
      ]
    },
    {
      "cell_type": "code",
      "metadata": {
        "id": "ssT3CDN9e_nI",
        "colab_type": "code",
        "colab": {
          "base_uri": "https://localhost:8080/",
          "height": 34
        },
        "outputId": "faeecac0-a215-4e6b-9011-8a8c4392d0a3"
      },
      "source": [
        "testset = torchvision.datasets.CIFAR10(root = '/content/drive/My Drive/Colab Notebooks/Udacity_DL/Dataset/CIFAR-10', \n",
        "                                       train=False, \n",
        "                                       download=True, \n",
        "                                       transform= test_transform)"
      ],
      "execution_count": 127,
      "outputs": [
        {
          "output_type": "stream",
          "text": [
            "Files already downloaded and verified\n"
          ],
          "name": "stdout"
        }
      ]
    },
    {
      "cell_type": "code",
      "metadata": {
        "id": "TH7JkmrkfRqd",
        "colab_type": "code",
        "colab": {}
      },
      "source": [
        "trainloader = torch.utils.data.DataLoader(trainset, \n",
        "                            batch_size=16, \n",
        "                            shuffle=True, \n",
        "                            num_workers=2)"
      ],
      "execution_count": 0,
      "outputs": []
    },
    {
      "cell_type": "code",
      "metadata": {
        "id": "YPxOxQMogAeM",
        "colab_type": "code",
        "colab": {}
      },
      "source": [
        "testloader = torch.utils.data.DataLoader(testset, \n",
        "                            batch_size=16, \n",
        "                            shuffle=False, \n",
        "                            num_workers=2)"
      ],
      "execution_count": 0,
      "outputs": []
    },
    {
      "cell_type": "code",
      "metadata": {
        "id": "a2z6QCCFgMnx",
        "colab_type": "code",
        "colab": {
          "base_uri": "https://localhost:8080/",
          "height": 34
        },
        "outputId": "208a8d06-ec58-40bc-e78c-9192126e907c"
      },
      "source": [
        "class_names = trainset.classes\n",
        "\n",
        "print(class_names)"
      ],
      "execution_count": 130,
      "outputs": [
        {
          "output_type": "stream",
          "text": [
            "['airplane', 'automobile', 'bird', 'cat', 'deer', 'dog', 'frog', 'horse', 'ship', 'truck']\n"
          ],
          "name": "stdout"
        }
      ]
    },
    {
      "cell_type": "code",
      "metadata": {
        "id": "x0ia5UqtgW0w",
        "colab_type": "code",
        "colab": {
          "base_uri": "https://localhost:8080/",
          "height": 202
        },
        "outputId": "f2c6a3fe-1618-4302-c683-3ce37c6d3e93"
      },
      "source": [
        "trainset"
      ],
      "execution_count": 131,
      "outputs": [
        {
          "output_type": "execute_result",
          "data": {
            "text/plain": [
              "Dataset CIFAR10\n",
              "    Number of datapoints: 50000\n",
              "    Root location: /content/drive/My Drive/Colab Notebooks/Udacity_DL/Dataset/CIFAR-10\n",
              "    Split: Train\n",
              "    StandardTransform\n",
              "Transform: Compose(\n",
              "               Resize(size=32, interpolation=PIL.Image.BILINEAR)\n",
              "               RandomHorizontalFlip(p=0.5)\n",
              "               ToTensor()\n",
              "               Normalize(mean=[0.4915, 0.4823, 0.4467], std=[0.2383, 0.23486, 0.25264])\n",
              "           )"
            ]
          },
          "metadata": {
            "tags": []
          },
          "execution_count": 131
        }
      ]
    },
    {
      "cell_type": "code",
      "metadata": {
        "id": "tk73uSa6ge_q",
        "colab_type": "code",
        "colab": {}
      },
      "source": [
        "img, label = iter(trainloader).next()"
      ],
      "execution_count": 0,
      "outputs": []
    },
    {
      "cell_type": "code",
      "metadata": {
        "id": "OorMalE_g1Cq",
        "colab_type": "code",
        "colab": {
          "base_uri": "https://localhost:8080/",
          "height": 34
        },
        "outputId": "8c6d4b6d-ad7a-4569-ebb4-9c9e13994618"
      },
      "source": [
        "img.shape"
      ],
      "execution_count": 133,
      "outputs": [
        {
          "output_type": "execute_result",
          "data": {
            "text/plain": [
              "torch.Size([16, 3, 32, 32])"
            ]
          },
          "metadata": {
            "tags": []
          },
          "execution_count": 133
        }
      ]
    },
    {
      "cell_type": "code",
      "metadata": {
        "id": "dQB83a2Qg11T",
        "colab_type": "code",
        "colab": {
          "base_uri": "https://localhost:8080/",
          "height": 34
        },
        "outputId": "7bbae591-0551-4810-848b-a637166db491"
      },
      "source": [
        "label"
      ],
      "execution_count": 134,
      "outputs": [
        {
          "output_type": "execute_result",
          "data": {
            "text/plain": [
              "tensor([2, 4, 8, 3, 1, 6, 6, 7, 2, 2, 5, 2, 6, 0, 0, 1])"
            ]
          },
          "metadata": {
            "tags": []
          },
          "execution_count": 134
        }
      ]
    },
    {
      "cell_type": "markdown",
      "metadata": {
        "id": "jiqjbxhghTMj",
        "colab_type": "text"
      },
      "source": [
        "#CNN Model"
      ]
    },
    {
      "cell_type": "code",
      "metadata": {
        "id": "ZiuSMBWXg4Ps",
        "colab_type": "code",
        "colab": {}
      },
      "source": [
        "in_size = 3\n",
        "\n",
        "hid1_size = 16\n",
        "hid2_size = 32\n",
        "\n",
        "out1_size = 400\n",
        "out2_size = 10\n",
        "\n",
        "k_conv_size = 5"
      ],
      "execution_count": 0,
      "outputs": []
    },
    {
      "cell_type": "code",
      "metadata": {
        "id": "wVrMkgtihSPI",
        "colab_type": "code",
        "colab": {}
      },
      "source": [
        "class ConvNet(nn.Module):\n",
        "\n",
        "  def __init__(self):\n",
        "    super(ConvNet, self).__init__()\n",
        "\n",
        "    self.layer1 = nn.Sequential(\n",
        "        nn.Conv2d(in_size, hid1_size, k_conv_size),\n",
        "        nn.BatchNorm2d(hid1_size),\n",
        "        nn.ReLU(),\n",
        "        nn.MaxPool2d(kernel_size=2)\n",
        "    )\n",
        "\n",
        "    self.layer2 = nn.Sequential(\n",
        "        nn.Conv2d(hid1_size, hid2_size, k_conv_size),\n",
        "        nn.BatchNorm2d(hid2_size),\n",
        "        nn.ReLU(),\n",
        "        nn.MaxPool2d(kernel_size=2)\n",
        "    )\n",
        "\n",
        "    self.layer3 = nn.Sequential(\n",
        "        nn.Linear(hid2_size * k_conv_size * k_conv_size, out1_size),\n",
        "        nn.ReLU(),\n",
        "        nn.Dropout(0.5),\n",
        "        nn.Linear(out1_size, out2_size)\n",
        "    )\n",
        "\n",
        "  def forward(self, x):\n",
        "\n",
        "    out = self.layer1(x)\n",
        "    out = self.layer2(out)\n",
        "\n",
        "    out = out.reshape(out.size(0), -1)\n",
        "\n",
        "    out = self.layer3(out)\n",
        "\n",
        "    return F.log_softmax(out, dim=1)"
      ],
      "execution_count": 0,
      "outputs": []
    },
    {
      "cell_type": "markdown",
      "metadata": {
        "id": "5qjGJUbBkkfk",
        "colab_type": "text"
      },
      "source": [
        "#Training Model"
      ]
    },
    {
      "cell_type": "code",
      "metadata": {
        "id": "9NxJeeUQkdjy",
        "colab_type": "code",
        "colab": {}
      },
      "source": [
        "model = ConvNet()"
      ],
      "execution_count": 0,
      "outputs": []
    },
    {
      "cell_type": "code",
      "metadata": {
        "id": "FvXTNLc3pKlR",
        "colab_type": "code",
        "colab": {}
      },
      "source": [
        "device = torch.device(\"cuda:0\" if torch.cuda.is_available() else \"cpu\")"
      ],
      "execution_count": 0,
      "outputs": []
    },
    {
      "cell_type": "code",
      "metadata": {
        "id": "_2cZ1w-XpaHs",
        "colab_type": "code",
        "colab": {
          "base_uri": "https://localhost:8080/",
          "height": 34
        },
        "outputId": "556970ad-6cbe-4687-ec85-0e32060f72af"
      },
      "source": [
        "print(device)"
      ],
      "execution_count": 139,
      "outputs": [
        {
          "output_type": "stream",
          "text": [
            "cuda:0\n"
          ],
          "name": "stdout"
        }
      ]
    },
    {
      "cell_type": "code",
      "metadata": {
        "id": "OsN2IpI9pcda",
        "colab_type": "code",
        "colab": {
          "base_uri": "https://localhost:8080/",
          "height": 353
        },
        "outputId": "1f27c558-b523-4107-f5f0-6c8dc07ec903"
      },
      "source": [
        "model.to(device)"
      ],
      "execution_count": 140,
      "outputs": [
        {
          "output_type": "execute_result",
          "data": {
            "text/plain": [
              "ConvNet(\n",
              "  (layer1): Sequential(\n",
              "    (0): Conv2d(3, 16, kernel_size=(5, 5), stride=(1, 1))\n",
              "    (1): BatchNorm2d(16, eps=1e-05, momentum=0.1, affine=True, track_running_stats=True)\n",
              "    (2): ReLU()\n",
              "    (3): MaxPool2d(kernel_size=2, stride=2, padding=0, dilation=1, ceil_mode=False)\n",
              "  )\n",
              "  (layer2): Sequential(\n",
              "    (0): Conv2d(16, 32, kernel_size=(5, 5), stride=(1, 1))\n",
              "    (1): BatchNorm2d(32, eps=1e-05, momentum=0.1, affine=True, track_running_stats=True)\n",
              "    (2): ReLU()\n",
              "    (3): MaxPool2d(kernel_size=2, stride=2, padding=0, dilation=1, ceil_mode=False)\n",
              "  )\n",
              "  (layer3): Sequential(\n",
              "    (0): Linear(in_features=800, out_features=400, bias=True)\n",
              "    (1): ReLU()\n",
              "    (2): Dropout(p=0.5, inplace=False)\n",
              "    (3): Linear(in_features=400, out_features=10, bias=True)\n",
              "  )\n",
              ")"
            ]
          },
          "metadata": {
            "tags": []
          },
          "execution_count": 140
        }
      ]
    },
    {
      "cell_type": "code",
      "metadata": {
        "id": "VkC4PpQDpnex",
        "colab_type": "code",
        "colab": {}
      },
      "source": [
        "learning_rate = 0.001\n",
        "\n",
        "criterion = nn.NLLLoss()\n",
        "\n",
        "optimizer = torch.optim.Adam(model.parameters(), lr = learning_rate)"
      ],
      "execution_count": 0,
      "outputs": []
    },
    {
      "cell_type": "code",
      "metadata": {
        "id": "zbothILxp5vO",
        "colab_type": "code",
        "colab": {}
      },
      "source": [
        "total_step = len(trainloader)\n",
        "epochs = 15\n",
        "loss_values = list()"
      ],
      "execution_count": 0,
      "outputs": []
    },
    {
      "cell_type": "code",
      "metadata": {
        "id": "Qj5WnZ4rqezp",
        "colab_type": "code",
        "colab": {
          "base_uri": "https://localhost:8080/",
          "height": 286
        },
        "outputId": "864220ba-893b-4e38-84f3-7e564aecb273"
      },
      "source": [
        "for epoch in range(epochs):\n",
        "\n",
        "  for i, (images, labels) in enumerate(trainloader):\n",
        "\n",
        "    images, labels = images.to(device), labels.to(device)\n",
        "    outputs = model(images)\n",
        "    loss = criterion(outputs, labels)\n",
        "\n",
        "    optimizer.zero_grad()\n",
        "    loss.backward()\n",
        "    optimizer.step()\n",
        "\n",
        "    if(i+1) % 2000 == 0:\n",
        "      print(\"Epoch [{}/{}], Step[{}/{}], Loss: {:.4f}\".format(epoch+1, epochs, i+1, total_step, loss.item()))\n",
        "\n",
        "      loss_values.append(loss.item())\n",
        "      \n",
        "print('Finished Training')\n"
      ],
      "execution_count": 143,
      "outputs": [
        {
          "output_type": "stream",
          "text": [
            "Epoch [1/15], Step[2000/3125], Loss: 1.1680\n",
            "Epoch [2/15], Step[2000/3125], Loss: 1.1528\n",
            "Epoch [3/15], Step[2000/3125], Loss: 1.1500\n",
            "Epoch [4/15], Step[2000/3125], Loss: 1.1696\n",
            "Epoch [5/15], Step[2000/3125], Loss: 0.9076\n",
            "Epoch [6/15], Step[2000/3125], Loss: 1.0380\n",
            "Epoch [7/15], Step[2000/3125], Loss: 0.6847\n",
            "Epoch [8/15], Step[2000/3125], Loss: 0.7458\n",
            "Epoch [9/15], Step[2000/3125], Loss: 0.9539\n",
            "Epoch [10/15], Step[2000/3125], Loss: 1.7337\n",
            "Epoch [11/15], Step[2000/3125], Loss: 0.7367\n",
            "Epoch [12/15], Step[2000/3125], Loss: 0.4419\n",
            "Epoch [13/15], Step[2000/3125], Loss: 0.5007\n",
            "Epoch [14/15], Step[2000/3125], Loss: 0.8305\n",
            "Epoch [15/15], Step[2000/3125], Loss: 0.4781\n",
            "Finished Training\n"
          ],
          "name": "stdout"
        }
      ]
    },
    {
      "cell_type": "code",
      "metadata": {
        "id": "ZV9b8fuNsM07",
        "colab_type": "code",
        "colab": {
          "base_uri": "https://localhost:8080/",
          "height": 623
        },
        "outputId": "418df30b-421a-4d1e-8abf-d3690ca3df1d"
      },
      "source": [
        "x = (range(1, 16))\n",
        "\n",
        "plt.figure(figsize = (12, 10))\n",
        "\n",
        "plt.plot(x, loss_values)\n",
        "plt.xlabel('Step')\n",
        "plt.ylabel('Loss')"
      ],
      "execution_count": 153,
      "outputs": [
        {
          "output_type": "execute_result",
          "data": {
            "text/plain": [
              "Text(0, 0.5, 'Loss')"
            ]
          },
          "metadata": {
            "tags": []
          },
          "execution_count": 153
        },
        {
          "output_type": "display_data",
          "data": {
            "image/png": "[encoded data removed]",
            "text/plain": [
              "<Figure size 864x720 with 1 Axes>"
            ]
          },
          "metadata": {
            "tags": [],
            "needs_background": "light"
          }
        }
      ]
    },
    {
      "cell_type": "code",
      "metadata": {
        "id": "iJOgz4zhtABw",
        "colab_type": "code",
        "colab": {
          "base_uri": "https://localhost:8080/",
          "height": 34
        },
        "outputId": "103363e5-548a-455b-d644-69d12c00e176"
      },
      "source": [
        "model.eval()\n",
        "with torch.no_grad():\n",
        "  correct = 0\n",
        "  total = 0\n",
        "\n",
        "  for images, labels in testloader:\n",
        "\n",
        "    images, labels = images.to(device), labels.to(device)\n",
        "    outputs = model(images)\n",
        "\n",
        "    _, predicted = torch.max(outputs.data, 1)\n",
        "    total += labels.size(0)\n",
        "    correct += (predicted == labels).sum().item()\n",
        "\n",
        "  print(\"Accuracy of the model on the 1000 test images: {}%\".format(100*correct/total))\n"
      ],
      "execution_count": 155,
      "outputs": [
        {
          "output_type": "stream",
          "text": [
            "Accuracy of the model on the 1000 test images: 74.86%\n"
          ],
          "name": "stdout"
        }
      ]
    },
    {
      "cell_type": "code",
      "metadata": {
        "id": "RDN8yS4QuOMl",
        "colab_type": "code",
        "colab": {}
      },
      "source": [
        "sample_img, _ = testset[23]"
      ],
      "execution_count": 0,
      "outputs": []
    },
    {
      "cell_type": "code",
      "metadata": {
        "id": "RP_7sRFHux2h",
        "colab_type": "code",
        "colab": {
          "base_uri": "https://localhost:8080/",
          "height": 34
        },
        "outputId": "44fe9612-e627-493e-89f8-a797e9ad20c7"
      },
      "source": [
        "sample_img.shape"
      ],
      "execution_count": 157,
      "outputs": [
        {
          "output_type": "execute_result",
          "data": {
            "text/plain": [
              "torch.Size([3, 32, 32])"
            ]
          },
          "metadata": {
            "tags": []
          },
          "execution_count": 157
        }
      ]
    },
    {
      "cell_type": "code",
      "metadata": {
        "id": "8DtG_9D2u0Lc",
        "colab_type": "code",
        "colab": {}
      },
      "source": [
        "sample_img = np.transpose(sample_img, (1, 2, 0))"
      ],
      "execution_count": 0,
      "outputs": []
    },
    {
      "cell_type": "code",
      "metadata": {
        "id": "xu6grqqQvA22",
        "colab_type": "code",
        "colab": {}
      },
      "source": [
        "m, M = sample_img.min(), sample_img.max()\n",
        "\n",
        "sample_img = ((1/abs(m)*M)) * sample_img + 0.5\n",
        "\n",
        "#To rescale img between 0 to 1"
      ],
      "execution_count": 0,
      "outputs": []
    },
    {
      "cell_type": "code",
      "metadata": {
        "id": "h0ek3J91vU-A",
        "colab_type": "code",
        "colab": {
          "base_uri": "https://localhost:8080/",
          "height": 408
        },
        "outputId": "0a3fa68b-ffe5-4c51-e4ba-97c8c498cd0d"
      },
      "source": [
        "plt.figure(figsize = (6, 6))\n",
        "plt.imshow(sample_img)"
      ],
      "execution_count": 160,
      "outputs": [
        {
          "output_type": "stream",
          "text": [
            "Clipping input data to the valid range for imshow with RGB data ([0..1] for floats or [0..255] for integers).\n"
          ],
          "name": "stderr"
        },
        {
          "output_type": "execute_result",
          "data": {
            "text/plain": [
              "<matplotlib.image.AxesImage at 0x7f65003b17b8>"
            ]
          },
          "metadata": {
            "tags": []
          },
          "execution_count": 160
        },
        {
          "output_type": "display_data",
          "data": {
            "image/png": "[encoded data removed]",
            "text/plain": [
              "<Figure size 432x432 with 1 Axes>"
            ]
          },
          "metadata": {
            "tags": [],
            "needs_background": "light"
          }
        }
      ]
    },
    {
      "cell_type": "code",
      "metadata": {
        "id": "vR1fwDI8vmmd",
        "colab_type": "code",
        "colab": {}
      },
      "source": [
        "test_img, test_label = testset[23]"
      ],
      "execution_count": 0,
      "outputs": []
    },
    {
      "cell_type": "code",
      "metadata": {
        "id": "FPTWwGg1v60F",
        "colab_type": "code",
        "colab": {}
      },
      "source": [
        "test_img = test_img.reshape(-1, 3, 32, 32)"
      ],
      "execution_count": 0,
      "outputs": []
    },
    {
      "cell_type": "code",
      "metadata": {
        "id": "sAe03syhwDb5",
        "colab_type": "code",
        "colab": {}
      },
      "source": [
        "out_predict = model(test_img.to(device))\n",
        "_, predicted = torch.max(out_predict.data, 1) "
      ],
      "execution_count": 0,
      "outputs": []
    },
    {
      "cell_type": "code",
      "metadata": {
        "id": "9r6sM41lwRfw",
        "colab_type": "code",
        "colab": {
          "base_uri": "https://localhost:8080/",
          "height": 34
        },
        "outputId": "22415287-53b1-47d7-aff7-3cd9e136064d"
      },
      "source": [
        "print(\"Actual Label : \", test_label)"
      ],
      "execution_count": 164,
      "outputs": [
        {
          "output_type": "stream",
          "text": [
            "Actual Label :  9\n"
          ],
          "name": "stdout"
        }
      ]
    },
    {
      "cell_type": "code",
      "metadata": {
        "id": "g_I8IeUMwcEP",
        "colab_type": "code",
        "colab": {
          "base_uri": "https://localhost:8080/",
          "height": 34
        },
        "outputId": "fb1c38d3-9670-4ec3-e590-1e32a6e12089"
      },
      "source": [
        "print(\"Predcited Label : \", predicted.item())"
      ],
      "execution_count": 165,
      "outputs": [
        {
          "output_type": "stream",
          "text": [
            "Predcited Label :  9\n"
          ],
          "name": "stdout"
        }
      ]
    },
    {
      "cell_type": "code",
      "metadata": {
        "id": "TZtFf8q1wlV-",
        "colab_type": "code",
        "colab": {
          "base_uri": "https://localhost:8080/",
          "height": 34
        },
        "outputId": "d0188e65-2c64-40d2-961b-e1712170d949"
      },
      "source": [
        "print(\"CLas name for {} : {} \".format(predicted.item(), class_names[predicted.item()]))"
      ],
      "execution_count": 166,
      "outputs": [
        {
          "output_type": "stream",
          "text": [
            "CLas name for 9 : truck \n"
          ],
          "name": "stdout"
        }
      ]
    },
    {
      "cell_type": "code",
      "metadata": {
        "id": "gr5KkWNJw40h",
        "colab_type": "code",
        "colab": {}
      },
      "source": [
        ""
      ],
      "execution_count": 0,
      "outputs": []
    }
  ]
}